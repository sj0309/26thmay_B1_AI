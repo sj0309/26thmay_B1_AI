{
 "cells": [
  {
   "cell_type": "code",
   "execution_count": 58,
   "metadata": {},
   "outputs": [],
   "source": [
    "#SCRAPING WEB PAGES TO EXTRACT THE INFORMATION OF OUR INTEREST USIN PYTHON.\n",
    "#FIRSTLY WEBPAGES ARE MADE UP OF 'HTML' WHICH DEFINE THE CONTENT OF THE PAGE & 'CSS' WHICH PROVIDE VISUAL STYLING TO THE CONTENT.\n",
    "#import libraries\n",
    "import pandas as pd\n",
    "#REQUESTS PACKAGE HELP US IN SENDING A REQUEST TO A WEB SERVER & GETTING THE 'HTML' RESPONSE.\n",
    "import requests\n",
    "#BEAUTIFULSOUP LIBRARY HELPS IN PARSING & EXTRACTING THE USEFUL INFORMATION  FROM MULTIPLE LINES OF 'HTML' CODES.\n",
    "from bs4 import BeautifulSoup"
   ]
  },
  {
   "cell_type": "code",
   "execution_count": 59,
   "metadata": {},
   "outputs": [],
   "source": [
    "#send request\n",
    "url='https://www.bankbazaar.com/reviews/hdfc-bank/credit-card.html' "
   ]
  },
  {
   "cell_type": "code",
   "execution_count": 60,
   "metadata": {},
   "outputs": [],
   "source": [
    "page= requests.get(url)"
   ]
  },
  {
   "cell_type": "code",
   "execution_count": 61,
   "metadata": {},
   "outputs": [],
   "source": [
    "#BEAUTIFULSOUP CAN BE UTILIZED FOR HTML PARSING & FINALLY WE'LL BE LEFT WITH PARSED OBJECT IN SOUP VARIABLE.\n",
    "soup= BeautifulSoup(page.text,'html.parser')"
   ]
  },
  {
   "cell_type": "code",
   "execution_count": 62,
   "metadata": {},
   "outputs": [],
   "source": [
    "#INSPECTING REVIEW TEXTS ON CHROME VIA 'URL'.\n",
    "#CREATING A NEW BLANK ARRAY.\n",
    "review_text=[] "
   ]
  },
  {
   "cell_type": "code",
   "execution_count": 63,
   "metadata": {},
   "outputs": [],
   "source": [
    "#USING SOUP OBJECT CREATED EARLIER & FIND ALL METHOD IS USED  TO FIND ALL PARTICULAR HTML TAG WITH SOME CRITERIA DEFINED IN THIS METHOD \n",
    "#CLASS ATTRIBUTE IS USED HERE TO RETURN ARRAY OF ALL ELEMENTS WHERE THIS CLASS MATCHES.\n",
    "review_text_elt= soup.find_all(class_='text_here review-desc-more') "
   ]
  },
  {
   "cell_type": "code",
   "execution_count": 64,
   "metadata": {},
   "outputs": [],
   "source": [
    "#LOOPING THIS ELEMENT\n",
    "for item in review_text_elt:\n",
    "    review_text.append(item.text)  #APPENDING THE CONTENT OF THIS ELEMENT INTO THE REVIEW TEXT ARRAY."
   ]
  },
  {
   "cell_type": "code",
   "execution_count": 65,
   "metadata": {},
   "outputs": [],
   "source": [
    "#INSPECTING USER'S NAME\n",
    "#DEFINING A BLANK ARRAY.\n",
    "user_name=[]  "
   ]
  },
  {
   "cell_type": "code",
   "execution_count": 66,
   "metadata": {},
   "outputs": [],
   "source": [
    "user_name_elt=soup.find_all(class_='reviewer-profile')"
   ]
  },
  {
   "cell_type": "code",
   "execution_count": 67,
   "metadata": {},
   "outputs": [],
   "source": [
    "for item in user_name_elt:\n",
    "     user_name.append(item.text)"
   ]
  },
  {
   "cell_type": "code",
   "execution_count": 68,
   "metadata": {},
   "outputs": [],
   "source": [
    "#INSPECTING BANK LOGO.\n",
    "bank_name=[]"
   ]
  },
  {
   "cell_type": "code",
   "execution_count": 69,
   "metadata": {},
   "outputs": [],
   "source": [
    "bank_name_elt=soup.find_all('div',{'class':'review-bank-title'})"
   ]
  },
  {
   "cell_type": "code",
   "execution_count": 70,
   "metadata": {},
   "outputs": [],
   "source": [
    "for item in bank_name_elt:\n",
    "    bank_name.append(item.find('img').get('alt')) #WE CAN'T READ THE TEXT FROM IMAGE BUT WE CAN READ TXT FROM HTML, SO WE'LL READ THE NAME FROM IMAGE ATTRIBUTE i.e.-'alt'. "
   ]
  },
  {
   "cell_type": "code",
   "execution_count": 71,
   "metadata": {},
   "outputs": [
    {
     "data": {
      "text/plain": [
       "['HDFC Bank',\n",
       " 'HDFC Bank',\n",
       " 'HDFC Bank',\n",
       " 'HDFC Bank',\n",
       " 'HDFC Bank',\n",
       " 'HDFC Bank',\n",
       " 'HDFC Bank',\n",
       " 'HDFC Bank',\n",
       " 'HDFC Bank',\n",
       " 'HDFC Bank',\n",
       " 'HDFC Bank',\n",
       " 'HDFC Bank',\n",
       " 'HDFC Bank',\n",
       " 'HDFC Bank',\n",
       " 'HDFC Bank',\n",
       " 'HDFC Bank',\n",
       " 'HDFC Bank',\n",
       " 'HDFC Bank',\n",
       " 'HDFC Bank',\n",
       " 'HDFC Bank']"
      ]
     },
     "execution_count": 71,
     "metadata": {},
     "output_type": "execute_result"
    }
   ],
   "source": [
    "bank_name"
   ]
  },
  {
   "cell_type": "code",
   "execution_count": 72,
   "metadata": {},
   "outputs": [],
   "source": [
    "#COMBINING ALL THE THREE ARRAYS AND CREATING A PANDAS DATAFRAME.\n",
    "final_array=[]"
   ]
  },
  {
   "cell_type": "code",
   "execution_count": 73,
   "metadata": {},
   "outputs": [],
   "source": [
    "#PYTHON ZIP FUNCTION WHICH HELPS IN COMBINING THE ARRAYS & TRAVERSING THROUGH ALL OF THEM IN A SINGLE STEP.\n",
    "for text, user, bank in zip(review_text,user_name,bank_name):\n",
    "    final_array.append({'Review_Text':text,'User':user,'Bank':bank})"
   ]
  },
  {
   "cell_type": "code",
   "execution_count": 74,
   "metadata": {},
   "outputs": [],
   "source": [
    "df = pd.DataFrame(final_array)   #USING PANDAS DATAFRAME METHOD CREATING DATAFRAME NAMED 'DF'.\n"
   ]
  },
  {
   "cell_type": "code",
   "execution_count": 75,
   "metadata": {},
   "outputs": [
    {
     "data": {
      "text/html": [
       "<div>\n",
       "<style scoped>\n",
       "    .dataframe tbody tr th:only-of-type {\n",
       "        vertical-align: middle;\n",
       "    }\n",
       "\n",
       "    .dataframe tbody tr th {\n",
       "        vertical-align: top;\n",
       "    }\n",
       "\n",
       "    .dataframe thead th {\n",
       "        text-align: right;\n",
       "    }\n",
       "</style>\n",
       "<table border=\"1\" class=\"dataframe\">\n",
       "  <thead>\n",
       "    <tr style=\"text-align: right;\">\n",
       "      <th></th>\n",
       "      <th>Review_Text</th>\n",
       "      <th>User</th>\n",
       "      <th>Bank</th>\n",
       "    </tr>\n",
       "  </thead>\n",
       "  <tbody>\n",
       "    <tr>\n",
       "      <th>0</th>\n",
       "      <td>\\n                                I have used ...</td>\n",
       "      <td>\\nS K\\n                                    , b...</td>\n",
       "      <td>HDFC Bank</td>\n",
       "    </tr>\n",
       "    <tr>\n",
       "      <th>1</th>\n",
       "      <td>\\n                                HDFC credit ...</td>\n",
       "      <td>\\n KUMAR \\n                                   ...</td>\n",
       "      <td>HDFC Bank</td>\n",
       "    </tr>\n",
       "    <tr>\n",
       "      <th>2</th>\n",
       "      <td>\\n                                Even if I fo...</td>\n",
       "      <td>\\nLAN  \\n                                    ,...</td>\n",
       "      <td>HDFC Bank</td>\n",
       "    </tr>\n",
       "    <tr>\n",
       "      <th>3</th>\n",
       "      <td>\\n                                I am using H...</td>\n",
       "      <td>\\nB K\\n                                    , n...</td>\n",
       "      <td>HDFC Bank</td>\n",
       "    </tr>\n",
       "    <tr>\n",
       "      <th>4</th>\n",
       "      <td>\\n                                Choosing HDF...</td>\n",
       "      <td>\\nMAHADEV \\n                                  ...</td>\n",
       "      <td>HDFC Bank</td>\n",
       "    </tr>\n",
       "    <tr>\n",
       "      <th>5</th>\n",
       "      <td>\\n                                Being with H...</td>\n",
       "      <td>\\nA T\\n                                    , n...</td>\n",
       "      <td>HDFC Bank</td>\n",
       "    </tr>\n",
       "    <tr>\n",
       "      <th>6</th>\n",
       "      <td>\\n                                The best par...</td>\n",
       "      <td>\\nHARNEET  \\n                                 ...</td>\n",
       "      <td>HDFC Bank</td>\n",
       "    </tr>\n",
       "    <tr>\n",
       "      <th>7</th>\n",
       "      <td>\\n                                I am holding...</td>\n",
       "      <td>\\nPALASH  SINGHA\\n                            ...</td>\n",
       "      <td>HDFC Bank</td>\n",
       "    </tr>\n",
       "    <tr>\n",
       "      <th>8</th>\n",
       "      <td>\\n                                I am using H...</td>\n",
       "      <td>\\nMOHAMMED A\\n                                ...</td>\n",
       "      <td>HDFC Bank</td>\n",
       "    </tr>\n",
       "    <tr>\n",
       "      <th>9</th>\n",
       "      <td>\\n                                I am happy w...</td>\n",
       "      <td>\\nP  M\\n                                    , ...</td>\n",
       "      <td>HDFC Bank</td>\n",
       "    </tr>\n",
       "    <tr>\n",
       "      <th>10</th>\n",
       "      <td>\\n                                I have been ...</td>\n",
       "      <td>\\nP K \\n                                    , ...</td>\n",
       "      <td>HDFC Bank</td>\n",
       "    </tr>\n",
       "    <tr>\n",
       "      <th>11</th>\n",
       "      <td>\\n                                I have HDFC ...</td>\n",
       "      <td>\\nIMRAN  \\n                                   ...</td>\n",
       "      <td>HDFC Bank</td>\n",
       "    </tr>\n",
       "    <tr>\n",
       "      <th>12</th>\n",
       "      <td>\\n                                I am using H...</td>\n",
       "      <td>\\nM  PREM\\n                                   ...</td>\n",
       "      <td>HDFC Bank</td>\n",
       "    </tr>\n",
       "    <tr>\n",
       "      <th>13</th>\n",
       "      <td>\\n                                I have appli...</td>\n",
       "      <td>\\nN\\n                                    , new...</td>\n",
       "      <td>HDFC Bank</td>\n",
       "    </tr>\n",
       "    <tr>\n",
       "      <th>14</th>\n",
       "      <td>\\n                                I am using  ...</td>\n",
       "      <td>\\nHUZAI PUNJABI\\n                             ...</td>\n",
       "      <td>HDFC Bank</td>\n",
       "    </tr>\n",
       "    <tr>\n",
       "      <th>15</th>\n",
       "      <td>\\n                                I am using H...</td>\n",
       "      <td>\\nARUN \\n                                    ,...</td>\n",
       "      <td>HDFC Bank</td>\n",
       "    </tr>\n",
       "    <tr>\n",
       "      <th>16</th>\n",
       "      <td>\\n                                I have appli...</td>\n",
       "      <td>\\nV \\n                                    , ch...</td>\n",
       "      <td>HDFC Bank</td>\n",
       "    </tr>\n",
       "    <tr>\n",
       "      <th>17</th>\n",
       "      <td>\\n                                HDFC Bank cr...</td>\n",
       "      <td>\\nSANTHOSH C\\n                                ...</td>\n",
       "      <td>HDFC Bank</td>\n",
       "    </tr>\n",
       "    <tr>\n",
       "      <th>18</th>\n",
       "      <td>\\n                                I am using H...</td>\n",
       "      <td>\\nS\\n                                    , che...</td>\n",
       "      <td>HDFC Bank</td>\n",
       "    </tr>\n",
       "    <tr>\n",
       "      <th>19</th>\n",
       "      <td>\\n                                On 6 months ...</td>\n",
       "      <td>\\nYAM\\n                                    , b...</td>\n",
       "      <td>HDFC Bank</td>\n",
       "    </tr>\n",
       "  </tbody>\n",
       "</table>\n",
       "</div>"
      ],
      "text/plain": [
       "                                          Review_Text  \\\n",
       "0   \\n                                I have used ...   \n",
       "1   \\n                                HDFC credit ...   \n",
       "2   \\n                                Even if I fo...   \n",
       "3   \\n                                I am using H...   \n",
       "4   \\n                                Choosing HDF...   \n",
       "5   \\n                                Being with H...   \n",
       "6   \\n                                The best par...   \n",
       "7   \\n                                I am holding...   \n",
       "8   \\n                                I am using H...   \n",
       "9   \\n                                I am happy w...   \n",
       "10  \\n                                I have been ...   \n",
       "11  \\n                                I have HDFC ...   \n",
       "12  \\n                                I am using H...   \n",
       "13  \\n                                I have appli...   \n",
       "14  \\n                                I am using  ...   \n",
       "15  \\n                                I am using H...   \n",
       "16  \\n                                I have appli...   \n",
       "17  \\n                                HDFC Bank cr...   \n",
       "18  \\n                                I am using H...   \n",
       "19  \\n                                On 6 months ...   \n",
       "\n",
       "                                                 User       Bank  \n",
       "0   \\nS K\\n                                    , b...  HDFC Bank  \n",
       "1   \\n KUMAR \\n                                   ...  HDFC Bank  \n",
       "2   \\nLAN  \\n                                    ,...  HDFC Bank  \n",
       "3   \\nB K\\n                                    , n...  HDFC Bank  \n",
       "4   \\nMAHADEV \\n                                  ...  HDFC Bank  \n",
       "5   \\nA T\\n                                    , n...  HDFC Bank  \n",
       "6   \\nHARNEET  \\n                                 ...  HDFC Bank  \n",
       "7   \\nPALASH  SINGHA\\n                            ...  HDFC Bank  \n",
       "8   \\nMOHAMMED A\\n                                ...  HDFC Bank  \n",
       "9   \\nP  M\\n                                    , ...  HDFC Bank  \n",
       "10  \\nP K \\n                                    , ...  HDFC Bank  \n",
       "11  \\nIMRAN  \\n                                   ...  HDFC Bank  \n",
       "12  \\nM  PREM\\n                                   ...  HDFC Bank  \n",
       "13  \\nN\\n                                    , new...  HDFC Bank  \n",
       "14  \\nHUZAI PUNJABI\\n                             ...  HDFC Bank  \n",
       "15  \\nARUN \\n                                    ,...  HDFC Bank  \n",
       "16  \\nV \\n                                    , ch...  HDFC Bank  \n",
       "17  \\nSANTHOSH C\\n                                ...  HDFC Bank  \n",
       "18  \\nS\\n                                    , che...  HDFC Bank  \n",
       "19  \\nYAM\\n                                    , b...  HDFC Bank  "
      ]
     },
     "execution_count": 75,
     "metadata": {},
     "output_type": "execute_result"
    }
   ],
   "source": [
    "df "
   ]
  },
  {
   "cell_type": "code",
   "execution_count": null,
   "metadata": {},
   "outputs": [],
   "source": []
  }
 ],
 "metadata": {
  "kernelspec": {
   "display_name": "Python 3",
   "language": "python",
   "name": "python3"
  },
  "language_info": {
   "codemirror_mode": {
    "name": "ipython",
    "version": 3
   },
   "file_extension": ".py",
   "mimetype": "text/x-python",
   "name": "python",
   "nbconvert_exporter": "python",
   "pygments_lexer": "ipython3",
   "version": "3.8.5"
  }
 },
 "nbformat": 4,
 "nbformat_minor": 4
}

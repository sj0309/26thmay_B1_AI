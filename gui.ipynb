{
 "cells": [
  {
   "cell_type": "code",
   "execution_count": 20,
   "metadata": {},
   "outputs": [],
   "source": [
    "import pandas as pd\n",
    "import warnings\n",
    "import tkinter as tk\n",
    "\n",
    "warnings.filterwarnings('ignore')"
   ]
  },
  {
   "cell_type": "code",
   "execution_count": 54,
   "metadata": {},
   "outputs": [],
   "source": [
    "app=tk.Tk()\n",
    "app.geometry('579x378')\n",
    "app.title(\"weeknd_project\")\n",
    "Photo = tk.PhotoImage(file='clipart.png')\n",
    "photo_Label = tk.Label(image=Photo)\n",
    "photo_Label.pack()\n",
    "Checkbutton1 = tk.IntVar()  \n",
    "Checkbutton2 = tk.IntVar()\n",
    "tk.Label(app,width=40,text=\"Revenue Prediction\",fg=\"white\",bg=\"yellow\",font='Times 15 bold',relief=\"groove\").place(x=40,y=0)\n",
    "# tk.Label(app,width=15,text=\"P19\",bg=\"gold\",fg=\"black\",font=\"bold\").place(x=80,y=30)\n",
    "tk.Label(app,width=15,text=\"Enter  P29\",bg=\"red\",fg=\"black\",font=\"bold\",relief=\"groove\").place(x=80,y=80)\n",
    "tk.Label(app,width=15,text=\"Enter  P27\",bg=\"red\",fg=\"black\",font=\"bold\",relief=\"groove\").place(x=80,y=110)\n",
    "tk.Label(app,width=15,text=\"Enter Date\",bg=\"red\",fg=\"black\",font=\"bold\",relief=\"groove\").place(x=80,y=140)\n",
    "tk.Label(app,width=15,text=\"Enter  Year\",bg=\"red\",fg=\"black\",font=\"bold\",relief=\"groove\").place(x=80,y=170)\n",
    "tk.Label(app,width=15,text=\"City\",bg=\"red\",fg=\"black\",font=\"bold\",relief=\"groove\").place(x=80,y=200)\n",
    "tk.Label(app,width=10,text=\"Revenue :\",fg=\"white\",bg=\"pink\",font=(\"Times\", 15,\"bold\"),relief=\"groove\").place(x=80,y=310)\n",
    "tk.Checkbutton(app, text = \"Ankara\",variable = Checkbutton1,onvalue = 1,offvalue = 0,height =1,width =5,bg=\"white\",relief=\"groove\").place(x=290,y=200)\n",
    "tk.Checkbutton(app, text = \"Samsun\",variable = Checkbutton2,onvalue = 1,offvalue = 0,height = 1,width =5,bg=\"white\",relief=\"groove\").place(x=370,y=200)\n",
    "p29=tk.Variable(app)\n",
    "p27=tk.Variable(app)\n",
    "date=tk.Variable(app)\n",
    "year=tk.Variable(app)\n",
    "tk.Entry(app,width=20,textvariable=p29,bg='#ffffff',relief=\"groove\").place(x=290,y=80)\n",
    "tk.Entry(app,width=20,textvariable=p27,bg='#ffffff',relief=\"groove\").place(x=290,y=110)\n",
    "tk.Entry(app,width=20,textvariable=date,bg='#ffffff',relief=\"groove\").place(x=290,y=140)\n",
    "tk.Entry(app,width=20,textvariable=year,bg='#ffffff',relief=\"groove\").place(x=290,y=170)\n",
    "predict_var = tk.Variable(app)\n",
    "tk.Label(app,textvariable=predict_var,fg=\"white\",bg=\"#424C5A\",font=(\"Times\", 15,\"bold\")).place(x=260,y=310)\n",
    "def predict():\n",
    "    query = pd.DataFrame({\n",
    "    'P29':[p29.get()],\n",
    "    'Year':[year.get()],\n",
    "    'P27':[p27.get()],\n",
    "    'Ankara': [Checkbutton1.get()],\n",
    "    'Samsun': [Checkbutton2.get()],\n",
    "    'Date': [date.get()]\n",
    "})\n",
    "    e=model.predict(query)[0]\n",
    "    predict_var.set(\"{0:.1f}$\".format(e))\n",
    "    p29.set('')\n",
    "    year.set('')\n",
    "    p27.set('')\n",
    "    date.set('')\n",
    "tk.Button(app,text=\"Predict\",fg=\"white\",bg=\"cyan\",font='Times 15 underline',relief=\"groove\",command=predict).place(x=200,y=250) \n",
    "app.mainloop()"
   ]
  },
  {
   "cell_type": "code",
   "execution_count": null,
   "metadata": {},
   "outputs": [],
   "source": []
  },
  {
   "cell_type": "code",
   "execution_count": null,
   "metadata": {},
   "outputs": [],
   "source": []
  }
 ],
 "metadata": {
  "kernelspec": {
   "display_name": "Python 3",
   "language": "python",
   "name": "python3"
  },
  "language_info": {
   "codemirror_mode": {
    "name": "ipython",
    "version": 3
   },
   "file_extension": ".py",
   "mimetype": "text/x-python",
   "name": "python",
   "nbconvert_exporter": "python",
   "pygments_lexer": "ipython3",
   "version": "3.8.5"
  }
 },
 "nbformat": 4,
 "nbformat_minor": 4
}
